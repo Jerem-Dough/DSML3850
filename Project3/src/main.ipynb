{
 "cells": [
  {
   "cell_type": "markdown",
   "id": "24f33f0a-cb68-4253-a9af-5fb8e0531d64",
   "metadata": {},
   "source": [
    "# Project 3: Heart Attack Predictor"
   ]
  },
  {
   "cell_type": "markdown",
   "id": "c268bf88-1ad8-4ae5-a03e-7fcf178b82e2",
   "metadata": {},
   "source": [
    "## Overview\n",
    "\n",
    "In the United States, someone experiences a heart attack every 40 seconds, contributing to more than 800K heart attacks annually. This underscores the critical need for awareness and prevention. Regularly assessing your risk of suffering a heart attack is crucial, as it allows for timely interventions and lifestyle changes that can significantly reduce the likelihood of life-threatening cardiovascular events.\n",
    "\n",
    "This project implements a web app that enables doctors to assess the risk of a patient having a heart attack. The web app is powered by a machine learning model trained on a real-world dataset containing patient information."
   ]
  },
  {
   "cell_type": "markdown",
   "id": "b7ea9103-c635-48bd-8e9e-da9ab88bdebe",
   "metadata": {},
   "source": [
    "## Dataset"
   ]
  },
  {
   "cell_type": "code",
   "execution_count": null,
   "id": "cc26e9c7-fe6f-45a9-a49f-45b481164517",
   "metadata": {},
   "outputs": [],
   "source": [
    "import boto3\n",
    "import pandas as pd\n",
    "from io import StringIO\n",
    "\n",
    "bucket_name = 'prj-03-bucket-jd'\n",
    "heart_attack_csv = 'heart_attack.csv'\n",
    "\n",
    "s3 = boto3.client('s3')\n",
    "\n",
    "response = s3.get_object(Bucket=bucket_name, Key=heart_attack_csv)\n",
    "\n",
    "data = pd.read_csv(response['Body'])\n",
    "\n",
    "data.head()"
   ]
  },
  {
   "cell_type": "markdown",
   "id": "a6f5c2a1-83bb-407f-8765-249a32fc128d",
   "metadata": {},
   "source": [
    "## Training"
   ]
  },
  {
   "cell_type": "code",
   "execution_count": null,
   "id": "6c9b6eda-a363-49da-9a96-d0a9ed02fb25",
   "metadata": {},
   "outputs": [],
   "source": [
    "from sklearn.model_selection import train_test_split\n",
    "from sklearn.linear_model import LogisticRegression\n",
    "from sklearn.preprocessing import StandardScaler\n",
    "\n",
    "data.columns = data.columns.str.strip()\n",
    "\n",
    "X = data.drop(columns=[\"heart attack\"])\n",
    "y = data[\"heart attack\"]\n",
    "\n",
    "X_train, X_test, y_train, y_test = train_test_split(X, y, test_size=0.2, random_state=42)\n",
    "\n",
    "scaler = StandardScaler()\n",
    "X_train_scaled = scaler.fit_transform(X_train)\n",
    "X_test_scaled = scaler.transform(X_test)\n",
    "\n",
    "model = LogisticRegression(max_iter=1000)\n",
    "model.fit(X_train_scaled, y_train)"
   ]
  },
  {
   "cell_type": "markdown",
   "id": "c8e5c014-ae3f-4df8-9c83-feec907427d9",
   "metadata": {},
   "source": [
    "## Model Evaluation"
   ]
  },
  {
   "cell_type": "code",
   "execution_count": null,
   "id": "93352996-b8f4-446a-b8a8-2bfb0990dda8",
   "metadata": {},
   "outputs": [],
   "source": [
    "from sklearn.metrics import accuracy_score, classification_report\n",
    "\n",
    "y_pred = model.predict(X_test_scaled)\n",
    "\n",
    "print(\"Classification Report:\")\n",
    "print(classification_report(y_test, y_pred))\n",
    "\n",
    "accuracy = accuracy_score(y_test, y_pred)\n",
    "print(f\"Accuracy Score: {accuracy:.4f}\")"
   ]
  },
  {
   "cell_type": "markdown",
   "id": "94317b32-759d-4119-9e85-1c84ef8a7cf6",
   "metadata": {},
   "source": [
    "## Model Serialization"
   ]
  },
  {
   "cell_type": "code",
   "execution_count": null,
   "id": "eea2ae6b-35c6-4d94-8e5a-599b8b5e81c1",
   "metadata": {},
   "outputs": [],
   "source": [
    "import joblib\n",
    "\n",
    "joblib.dump(model, \"logistic_model.pkl\")\n",
    "\n",
    "joblib.dump(scaler, \"scaler.pkl\")\n",
    "\n",
    "print(\"Saved successfully.\")"
   ]
  }
 ],
 "metadata": {
  "kernelspec": {
   "display_name": "Python 3 (ipykernel)",
   "language": "python",
   "name": "python3"
  },
  "language_info": {
   "codemirror_mode": {
    "name": "ipython",
    "version": 3
   },
   "file_extension": ".py",
   "mimetype": "text/x-python",
   "name": "python",
   "nbconvert_exporter": "python",
   "pygments_lexer": "ipython3",
   "version": "3.12.9"
  }
 },
 "nbformat": 4,
 "nbformat_minor": 5
}
